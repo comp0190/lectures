{
 "cells": [
  {
   "attachments": {},
   "cell_type": "markdown",
   "id": "e70ea357",
   "metadata": {},
   "source": [
    "# 3.3 Hyperparameter Optimisation"
   ]
  },
  {
   "attachments": {},
   "cell_type": "markdown",
   "id": "0d8b565e",
   "metadata": {},
   "source": [
    "The search for optimal hyperparameters is called *hyperparameter optimisation*, i.e. the search for the hyperparameter combination for which the trained model shows the best performance for the given data set. Popular methods for doing this are Grid Search, Random Search and Bayesian Optimisation. \n",
    "\n",
    "A conventional machine-learning model has hyperparameters and parameters. Parameters of a model are learned during the training process (E.g. the weights $\\theta$ in linear regression). Hyperparameters on the other hand, are values that are set before the actual training to control the learning process. The hyperparameters influence the training process as much as the parameters of the model and thus the performance of the resulting model."
   ]
  },
  {
   "cell_type": "markdown",
   "id": "0ae5b419",
   "metadata": {},
   "source": [
    "## Validation of the Model"
   ]
  },
  {
   "attachments": {},
   "cell_type": "markdown",
   "id": "b9f534ef",
   "metadata": {},
   "source": [
    "In order to determine what hyperparameters lead to the best performing model, we need to establish the notion of success (i.e. what outcome is considered as a favourable one in comparison to another). As we build models to do predictions, evaluation metrics that align with prediction performance (such as MSE for regression and Accuracy for classificaiton) can be used to determine the best hyperparameter set. \n",
    "\n",
    "```{image} hypersearch.webp\n",
    ":alt: How model validation works\n",
    "```"
   ]
  },
  {
   "cell_type": "markdown",
   "id": "eadc91a4",
   "metadata": {},
   "source": [
    "\n",
    "When evaluating the predictive performance using a suitable evaluation metric, it is important to use a *validation set*. The idea behind a validation set is to allocate a fraction of the data for evaluation and not using this data during the training of the model. There are several methods one can use to do validation such as k-fold cross validation and hold out validation. These methods are pre-packaged in libraries such as Scikit-learn. More details are found [here](https://scikit-learn.org/stable/modules/classes.html#module-sklearn.model_selection).  \n"
   ]
  },
  {
   "attachments": {},
   "cell_type": "markdown",
   "id": "57de238f",
   "metadata": {},
   "source": [
    "As per the figure above, we select a model family and seek to identify the best set of parameters and hyperparameters fitting the model to the data we have. While we learn the parameters through training, hyperparameters, that govern the learning process should be learned before training starts (e.g. the polynomial regression has the the polynomial degree that needs to be decided before training starts).\n",
    "\n",
    "The search for optimal hyperparameters is called *hyperparameter optimisation*, i.e. the search for the hyperparameter combination for which the trained model shows the best performance for the given data set. Popular methods for doing this are Grid Search, Random Search and Bayesian Optimisation. "
   ]
  },
  {
   "attachments": {},
   "cell_type": "markdown",
   "id": "04f1a3c0",
   "metadata": {},
   "source": [
    "## Finding the Optimal Hyperparameter Setting\n",
    "\n",
    "In order to find the optimal hyperparameter settings, we could theoretically calculate the validation score for different possible hyperparameter combinations, and finally choose the hyperparameters that show the best performance in the evaluation. In this context, we will discuss three popular hyperparameter tuning techniques. \n",
    "1. Grid Search\n",
    "2. Random Search\n",
    "3. Bayesian Optimisation\n",
    "\n",
    "\n"
   ]
  },
  {
   "attachments": {},
   "cell_type": "markdown",
   "id": "2a36e93d",
   "metadata": {},
   "source": [
    "```{image} hyper.webp\n",
    ":alt: How model validation works\n",
    "```"
   ]
  },
  {
   "attachments": {},
   "cell_type": "markdown",
   "id": "fb6ea22b",
   "metadata": {},
   "source": [
    "### 1. Grid Search\n",
    "\n",
    "The hyperparameter optimisation process “Grid Search” works by evaluating the validation performance of a model with respect to ***ALL*** posible hyperparameter combinations.  "
   ]
  },
  {
   "attachments": {},
   "cell_type": "markdown",
   "id": "ee7957de",
   "metadata": {},
   "source": [
    "```{image} gridsearch.webp\n",
    ":alt: Grid Search in a Picture\n",
    "```"
   ]
  },
  {
   "cell_type": "markdown",
   "id": "a733156d",
   "metadata": {},
   "source": [
    "If we consider a model that has two hyperparameters, where both hyperparameters have 6 possible values, grid search creates a grid of hyperparameter combinations (36 combinations on left side figure) where all of them are evaluated (right side figure). Based on the results, the best performing combination is chosen as the final hyperparameter set. "
   ]
  },
  {
   "attachments": {},
   "cell_type": "markdown",
   "id": "4cc8cc83",
   "metadata": {},
   "source": [
    "### 2. Random Search\n",
    "\n",
    "If the available computing power is limited and a hyperparameter combination already takes several seconds or minutes, it may make sense to look for solutions that reduce the number of required data points.\n",
    "\n",
    "Random search takes a relatively lazy approach in comparison to the grid search approach by only evaluating a ***subset*** of all possible hyperparameter combinations. The subset is chosen through random sampling. In cases where the hyperparameter combination is massive (due to large number of hyperparameters and/or many possible values per each hyperparameter), grid search, while holistic, may deem computationally infeasible. In such scenarios, random search (with a good enough random sample) may be a more efficient way to find a satisfactory solution.  "
   ]
  },
  {
   "attachments": {},
   "cell_type": "markdown",
   "id": "5ab453ff",
   "metadata": {},
   "source": [
    "### 3. Bayesian Optimisation\n",
    "\n",
    "Bayesian Optimisation introduces the Surrogate Function to repsent how the hyperparameters affect performance. In this case, the Surrogate Function is a calculated regression model that is supposed to approximate the real relationship between hypeparameter values and the loss.\n",
    "\n",
    "Basically, in Bayesian Optimisation we try to reduce the uncertainty of the model step by step, with each additional sampling point calculated — usually focusing on areas where the global maximum of the (performance) function is likely to lie.\n",
    "\n",
    "#### Caution\n",
    "Sounds like an extremely effective approach in itself, although one must take into account that this procedure also results in additional computational effort and that a sufficient replication of the perfomance function cannot always be achieved. As with any other regression problem, the formation of a sufficiently good model cannot be taken for granted. While Grid Search ends with the evaluation of the model performance, Bayesian hyperparameter optimisation additionally calculates the Surrogate and Acquisition Function.\n",
    "\n",
    "Another point to consider is that Bayesian optimisation aims to sample hyperparameter combinations in a way that the uncertainty is reduced over time. This requires *systematic sampling*. As combinations are no-longer randomly sampled and the sampling relies on prior information, parallelisation becomes challening in this case. \n",
    "\n"
   ]
  },
  {
   "attachments": {},
   "cell_type": "markdown",
   "id": "43e1617a",
   "metadata": {},
   "source": [
    "```{image} bayes.webp\n",
    ":alt: Bayesian Optimisation in a Picture\n",
    "```"
   ]
  },
  {
   "attachments": {},
   "cell_type": "markdown",
   "id": "707dd1cb",
   "metadata": {},
   "source": [
    "# Summary\n",
    "\n",
    "- Grid Search \n",
    "    - Advantages\n",
    "        - Tries all possible combinations  of hyperparameters\n",
    "        - Thorough search guarantees best results within the parameters of the search\n",
    "        - Can be done in parallel \n",
    "    - Disadvantages\n",
    "        - Computationally expensive\n",
    "        - Limit search space is compuationally feasible\n",
    "        - Not effective if the search space is not set appropriately\n",
    "        \n",
    "- Random Search \n",
    "    - Advantages\n",
    "        - Only uses a subset possible combinations of hyperparameters sampled randomly\n",
    "        - Can do a statistically robust search in a wide space of hyperparameters\n",
    "        - Computationally efficient\n",
    "        - Can be done in parallel \n",
    "    - Disadvantages\n",
    "        - Not effective if the search space is not set appropriately\n",
    "        - Not effective if a good size of samples are not obtained\n",
    "        - Can miss a promising hyperparamter region by chance\n",
    "        \n",
    " - Bayesian Optimisation \n",
    "    - Advantages\n",
    "        - Uses a subset possible combinations of hyperparameters sampled systematically\n",
    "        - Each trial gives a lot of information about the search space\n",
    "        - Computes a surrogate fuinction that proxy the relationship between the values and the performance\n",
    "        \n",
    "    - Disadvantages\n",
    "        - Each sample step is computationally expensive\n",
    "        - The surrogate function can underfit leading to sub optimal results\n",
    "        - Cannot be done in parallel     "
   ]
  }
 ],
 "metadata": {
  "kernelspec": {
   "display_name": "ast2",
   "language": "python",
   "name": "python3"
  },
  "language_info": {
   "codemirror_mode": {
    "name": "ipython",
    "version": 3
   },
   "file_extension": ".py",
   "mimetype": "text/x-python",
   "name": "python",
   "nbconvert_exporter": "python",
   "pygments_lexer": "ipython3",
   "version": "3.7.11"
  },
  "vscode": {
   "interpreter": {
    "hash": "0de3299e23d5a5222634dba46a48db5a84d18f0ecefc0996318329ceac1c7afe"
   }
  }
 },
 "nbformat": 4,
 "nbformat_minor": 5
}
