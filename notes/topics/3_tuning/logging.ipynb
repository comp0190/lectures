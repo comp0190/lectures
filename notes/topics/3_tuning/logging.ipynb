{
 "cells": [
  {
   "attachments": {},
   "cell_type": "markdown",
   "metadata": {},
   "source": [
    "# 3.4 Logging\n",
    "\n",
    "Why can't we just `print()` all of our outputs? Although this is a simple solution, it can be difficult to keep track of all of the information we need. This is especially the case when we want to run lots of experiments.\n",
    "\n",
    "To make it easier to keep track of experiments, the hyperparameters we used, and the results of those experiments, we can use a logger. This will allow us to keep track of the information we need in a structured way.\n",
    "\n",
    "## What should we log?\n",
    "\n",
    "You should try to log information that will help you to reproduce your experiments, as well as any information that will help you to understand the results of your experiments. This could include:\n",
    "\n",
    "* Model architecture\n",
    "* Hyperparameters\n",
    "* Training and validation losses\n",
    "* Metrics\n",
    "\n",
    "## Logging with `logging`\n",
    "\n",
    "There are lots of different loggers available in Python. The `logging` module is a built-in Python library that you can use. \n",
    "\n",
    "`logging` has the option to record messages under different levels of severity, which means you can adjust it to only record the messages you want. The five levels of severity are:"
   ]
  },
  {
   "attachments": {},
   "cell_type": "markdown",
   "metadata": {},
   "source": [
    "```{list-table}\n",
    ":header-rows: 1\n",
    "\n",
    "* - Level\n",
    "  - When it's used\n",
    "* - DEBUG\n",
    "  - Detailed information, typically of interest only when diagnosing problems.\n",
    "* - INFO\n",
    "  - Confirmation that things are working as expected.\n",
    "* - WARNING\n",
    "  - An indication that something unexpected happened, or indicative of some problem in the near future (e.g. 'disk space low'). The software is still working as expected.\n",
    "* - ERROR\n",
    "  - Due to a more serious problem, the software has not been able to perform some function.\n",
    "* - CRITICAL\n",
    "  - A serious error, indicating that the program itself may be unable to continue running.\n",
    "```"
   ]
  },
  {
   "attachments": {},
   "cell_type": "markdown",
   "metadata": {},
   "source": [
    "The default level is `WARNING`, so if you want to log messages at the `INFO` level, you need to set the level to `INFO` or lower.\n",
    "\n",
    "For  example:"
   ]
  },
  {
   "cell_type": "code",
   "execution_count": 1,
   "metadata": {},
   "outputs": [
    {
     "name": "stderr",
     "output_type": "stream",
     "text": [
      "WARNING:root:This is a warning message\n"
     ]
    }
   ],
   "source": [
    "import logging\n",
    "\n",
    "# This  will print a message to the console\n",
    "logging.warning('This is a warning message')\n",
    "# This will not print anything because the default level is warning\n",
    "logging.info('This is an info message')"
   ]
  },
  {
   "attachments": {},
   "cell_type": "markdown",
   "metadata": {},
   "source": [
    "We can configure the logger to record messages at a lower level of severity. For example, we can record messages at `debug` level or higher:"
   ]
  },
  {
   "cell_type": "code",
   "execution_count": 2,
   "metadata": {},
   "outputs": [
    {
     "name": "stderr",
     "output_type": "stream",
     "text": [
      "DEBUG:root:This is a debug message\n",
      "INFO:root:This is an info message\n",
      "WARNING:root:This is a warning message\n",
      "ERROR:root:This is an error message\n",
      "CRITICAL:root:This is a critical message\n"
     ]
    }
   ],
   "source": [
    "import logging\n",
    "\n",
    "logger = logging.getLogger()\n",
    "logger.setLevel(logging.DEBUG)\n",
    "\n",
    "logging.debug('This is a debug message')\n",
    "logging.info('This is an info message')\n",
    "logging.warning('This is a warning message')\n",
    "logging.error('This is an error message')\n",
    "logging.critical('This is a critical message')"
   ]
  },
  {
   "attachments": {},
   "cell_type": "markdown",
   "metadata": {},
   "source": [
    "To log messages to a file, we can use the `FileHandler`. We can then look at the contents later on to analyse the results of our experiments.\n",
    "\n",
    "However, if we are checking for outputs on the console, this will not display the messages. To display the messages on the console, we can use the `StreamHandler`.\n",
    "\n",
    "In the following example, we will log the warning messages to a file. Note as we are using a Jupyter notebook, there is no need to use the `StreamHandler` as it will duplicate the messages."
   ]
  },
  {
   "cell_type": "code",
   "execution_count": 3,
   "metadata": {},
   "outputs": [
    {
     "name": "stderr",
     "output_type": "stream",
     "text": [
      "DEBUG:root:This is a debug message\n",
      "WARNING:root:This is a warning message\n"
     ]
    }
   ],
   "source": [
    "import logging\n",
    "\n",
    "# Create logger\n",
    "logger = logging.getLogger()\n",
    "logger.setLevel(logging.DEBUG)\n",
    "\n",
    "\n",
    "# Create a file handler and set level to warning\n",
    "fh = logging.FileHandler('test.log')\n",
    "fh.setLevel(logging.WARNING)\n",
    "\n",
    "# Add handlers to logger\n",
    "logger.addHandler(fh)\n",
    "\n",
    "# Log code\n",
    "logger.debug('This is a debug message')\n",
    "logger.warning('This is a warning message')"
   ]
  },
  {
   "attachments": {},
   "cell_type": "markdown",
   "metadata": {},
   "source": [
    "## Example\n",
    "\n",
    "Let's train a decision tree on the [breast cancer](https://scikit-learn.org/stable/modules/generated/sklearn.datasets.load_breast_cancer.html) dataset. We'll log the time, tree depth, accuracy, precision and ROC AUC to a file."
   ]
  },
  {
   "cell_type": "code",
   "execution_count": 4,
   "metadata": {},
   "outputs": [],
   "source": [
    "import logging\n",
    "\n",
    "from sklearn.datasets import load_breast_cancer\n",
    "from sklearn.metrics import precision_score, recall_score, roc_auc_score\n",
    "from sklearn.model_selection import train_test_split\n",
    "from sklearn.tree import DecisionTreeClassifier"
   ]
  },
  {
   "attachments": {},
   "cell_type": "markdown",
   "metadata": {},
   "source": [
    "Set up the logger:"
   ]
  },
  {
   "cell_type": "code",
   "execution_count": 5,
   "metadata": {},
   "outputs": [],
   "source": [
    "logger = logging.getLogger()\n",
    "logger.setLevel(logging.DEBUG)\n",
    "\n",
    "# Create a file handler\n",
    "handler = logging.FileHandler('my_output.log')\n",
    "\n",
    "logger.addHandler(handler)\n",
    "handler.setFormatter(logging.Formatter(\"%(asctime)s:%(name)s:%(levelname)s:%(message)s\"))\n"
   ]
  },
  {
   "attachments": {},
   "cell_type": "markdown",
   "metadata": {},
   "source": [
    "Load the data"
   ]
  },
  {
   "cell_type": "code",
   "execution_count": 6,
   "metadata": {},
   "outputs": [],
   "source": [
    "data = load_breast_cancer()\n",
    "X_train, X_test, y_train, y_test = train_test_split(data.data, data.target, random_state=0)"
   ]
  },
  {
   "attachments": {},
   "cell_type": "markdown",
   "metadata": {},
   "source": [
    "Set the hyperparameters. In this case, we're only going to configure the tree depth."
   ]
  },
  {
   "cell_type": "code",
   "execution_count": 7,
   "metadata": {},
   "outputs": [
    {
     "name": "stderr",
     "output_type": "stream",
     "text": [
      "INFO:root:Max depth: 5\n"
     ]
    }
   ],
   "source": [
    "# Set the hyperparameters\n",
    "MAX_DEPTH = 5\n",
    "# Record max depth\n",
    "logger.info(f\"Max depth: {MAX_DEPTH}\")"
   ]
  },
  {
   "attachments": {},
   "cell_type": "markdown",
   "metadata": {},
   "source": [
    "Train the model!"
   ]
  },
  {
   "cell_type": "code",
   "execution_count": 8,
   "metadata": {},
   "outputs": [],
   "source": [
    "# Train the model\n",
    "clf = DecisionTreeClassifier(max_depth=MAX_DEPTH)\n",
    "clf = clf.fit(X_train, y_train)"
   ]
  },
  {
   "attachments": {},
   "cell_type": "markdown",
   "metadata": {},
   "source": [
    "...and evaluate - we can then check the outputs in `my_output.log`."
   ]
  },
  {
   "cell_type": "code",
   "execution_count": 9,
   "metadata": {},
   "outputs": [
    {
     "name": "stderr",
     "output_type": "stream",
     "text": [
      "INFO:root:Accuracy: 0.89\n",
      "INFO:root:Precision: 0.96\n",
      "INFO:root:Recall: 0.86\n",
      "INFO:root:AUC: 0.90\n"
     ]
    }
   ],
   "source": [
    "# Evaluate the model\n",
    "\n",
    "accuracy = clf.score(X_test, y_test)\n",
    "logger.info(f\"Accuracy: {accuracy:.2f}\")\n",
    "\n",
    "# Get predictions for other metrics\n",
    "predictions = clf.predict(X_test)\n",
    "\n",
    "precision = precision_score(y_test, predictions)\n",
    "logger.info(f\"Precision: {precision:.2f}\")\n",
    "recall = recall_score(y_test, predictions)\n",
    "logger.info(f\"Recall: {recall:.2f}\")\n",
    "auc = roc_auc_score(y_test, predictions)\n",
    "logger.info(f\"AUC: {auc:.2f}\")"
   ]
  },
  {
   "attachments": {},
   "cell_type": "markdown",
   "metadata": {},
   "source": [
    "## More information on logging\n",
    "* [Python logging documentation](https://docs.python.org/3/library/logging.html)\n",
    "* [Logging Cookbook](https://docs.python.org/3/howto/logging-cookbook.html)\n",
    "* [Machine learning mastery guide to logging](https://machinelearningmastery.com/how-to-log-machine-learning-results-for-reproducible-research/)\n",
    "\n",
    "## Alternatives to logger\n",
    "There are many alternatives to the `logging` module. Here are some of the most popular ones:\n",
    "* [Tensorboard](https://www.tensorflow.org/tensorboard)\n",
    "* [Weights and Biases](https://wandb.ai/site)\n",
    "* [dvc](https://dvc.org/)"
   ]
  }
 ],
 "metadata": {
  "kernelspec": {
   "display_name": "comp0190",
   "language": "python",
   "name": "python3"
  },
  "language_info": {
   "codemirror_mode": {
    "name": "ipython",
    "version": 3
   },
   "file_extension": ".py",
   "mimetype": "text/x-python",
   "name": "python",
   "nbconvert_exporter": "python",
   "pygments_lexer": "ipython3",
   "version": "3.7.16"
  },
  "orig_nbformat": 4,
  "vscode": {
   "interpreter": {
    "hash": "633d94998119a4c188dfbd34cb0612f2cda18710129c72b5fc0a03a00b1196cf"
   }
  }
 },
 "nbformat": 4,
 "nbformat_minor": 2
}
