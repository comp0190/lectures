{
 "cells": [
  {
   "attachments": {},
   "cell_type": "markdown",
   "metadata": {},
   "source": [
    "# 2.5 Tutorial\n",
    "\n",
    "In this tutorial we will put into practice the concepts we have learned in the previous sections.\n",
    "\n",
    "The task is as follows:\n",
    "1. Fork the [Git tutorial repository](https://github.com/comp0190/git_tutorial)\n",
    "2. Clone the repository to your local machine\n",
    "3. Create a new branch\n",
    "4. Edit the Python script to implement hyperparameter tuning and logging\n",
    "5. Push your changes to your remote repository\n",
    "6. **Bonus!** - Create a pull request to merge your changes into the original [Git tutorial repository](https://github.com/comp0190/git_tutorial)\n",
    "\n",
    "Hints and tips are provided below. Feel free to also refer to the previous sections for more information.\n",
    "\n",
    "## Forking the repository and cloning to your local machine\n",
    "\n",
    "Firstly, install Git on your local machine. You can find instructions for doing this [here](https://git-scm.com/book/en/v2/Getting-Started-Installing-Git).\n",
    "\n",
    "To fork the repository, click the **Fork** button in the top right corner of the repository page.\n",
    "\n",
    "To clone the repository to your local machine, open a terminal and navigate to the directory where you want to clone the repository. Then run the following command:\n",
    "\n",
    "```bash\n",
    "git clone <forked_repository_url>\n",
    "```\n",
    "\n",
    "Alternatively, you can use the **Code** button and clone the repository using [GitHub Desktop](https://desktop.github.com/).\n",
    "\n",
    "For an example of how to create a new branch, refer to [3.2 Git](/topics/3_tuning/git).\n",
    "\n",
    "## Implementing hyperparameter tuning\n",
    "\n",
    "Open the Python file in your favourite text editor. We want to add grid search to find the best hyperparameters for our model. Check out the hyperparameter tuning slides and the [grid search](https://scikit-learn.org/stable/modules/generated/sklearn.model_selection.GridSearchCV.html) documentation for more information on how to do this.\n",
    "\n",
    "## Logging the results of your experiments\n",
    "\n",
    "We want to log the results of our experiments so that we can compare them later. You can also log the hyperparameters used for each experiment so that you can easily see which hyperparameters were used for each experiment.\n",
    "\n",
    "You can refer to [3.4 Logging](/topics/3_tuning/logging) for more information on how to do this.\n",
    "\n",
    "## Committing your changes and pushing to your remote repository\n",
    "\n",
    "You should try and make regular commits to your local repository rather than combining different changes in one go. This will help you keep track of your changes and make it easier to revert to a previous version if you make a mistake.\n",
    "\n",
    "For an example of how to commit, refer to [3.2 Git](/topics/3_tuning/git)\n",
    "\n",
    "To push your changes to your remote repository, run the following command:\n",
    "\n",
    "```bash\n",
    "git push origin <branch_name>\n",
    "```\n",
    "\n",
    "## Bonus! - Creating a pull request\n",
    "\n",
    "If you want to share your changes with the rest of the class, you can create a pull request to merge your changes into the main repository.\n",
    "\n",
    "The GitHub documentation has a [guide](https://docs.github.com/en/github/collaborating-with-issues-and-pull-requests/creating-a-pull-request) on how to do this."
   ]
  }
 ],
 "metadata": {
  "kernelspec": {
   "display_name": "ast2",
   "language": "python",
   "name": "python3"
  },
  "language_info": {
   "codemirror_mode": {
    "name": "ipython",
    "version": 3
   },
   "file_extension": ".py",
   "mimetype": "text/x-python",
   "name": "python",
   "nbconvert_exporter": "python",
   "pygments_lexer": "ipython3",
   "version": "3.10.4"
  },
  "vscode": {
   "interpreter": {
    "hash": "0de3299e23d5a5222634dba46a48db5a84d18f0ecefc0996318329ceac1c7afe"
   }
  }
 },
 "nbformat": 4,
 "nbformat_minor": 2
}